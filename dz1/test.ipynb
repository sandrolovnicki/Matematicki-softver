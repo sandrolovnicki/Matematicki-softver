{
 "cells": [
  {
   "cell_type": "markdown",
   "metadata": {},
   "source": [
    "# Izračunljivost s neuronskim mrežama\n",
    "\n",
    "---\n",
    "**IDEJA:**\n",
    "\n",
    "- imamo 6 funkcija čijim kombiniranjem možemo kreirati sve izračunjive algoritme\n",
    "- stvoriti neuronsku mrežu takvu da:\n",
    "    - zna za tih 6 funkcija i može ih koristiti\n",
    "    - za dani input array $\\in N^k$ treba stvoriti algoritam kojim će dobiti dani output $\\in N$\n",
    "    - **cilj**: što manje funkcija\n",
    "    \n",
    "**KODOVI:**\n",
    "\n",
    "- zero -> 0\n",
    "- successor -> 1\n",
    "- projekcija(n) -> [2,n]\n",
    "- kompozicija -> [3,g.code,*[h.code for h in hs]]\n",
    "- primitivna rekurzija -> [4,g.code,h.code]\n",
    "- minimizacija -> [5,g.code]"
   ]
  },
  {
   "cell_type": "markdown",
   "metadata": {},
   "source": [
    "Nula $Z : N^k \\rightarrow N$, $Z(\\overrightarrow{x}) = 0$"
   ]
  },
  {
   "cell_type": "code",
   "execution_count": 352,
   "metadata": {},
   "outputs": [
    {
     "name": "stdout",
     "output_type": "stream",
     "text": [
      "0\n",
      "Z\n"
     ]
    }
   ],
   "source": [
    "class zero(object):\n",
    "    code = 0\n",
    "    def __call__(self,*args):\n",
    "        return 0\n",
    "    def __str__(self):\n",
    "        return 'Z'\n",
    "    def __eq__(self, other):\n",
    "        return self.code == other.code\n",
    "\n",
    "Z = zero()\n",
    "print(Z(3,2,5))\n",
    "print(Z)"
   ]
  },
  {
   "cell_type": "markdown",
   "metadata": {},
   "source": [
    "Sljedbenik $S : N \\rightarrow N$, $S(x) = x+1$"
   ]
  },
  {
   "cell_type": "code",
   "execution_count": 353,
   "metadata": {},
   "outputs": [
    {
     "data": {
      "text/plain": [
       "8"
      ]
     },
     "execution_count": 353,
     "metadata": {},
     "output_type": "execute_result"
    }
   ],
   "source": [
    "class successor(object):\n",
    "    code = 1\n",
    "    #def: accept even multiple aguments, but work with first\n",
    "    def __call__(self,*args):\n",
    "        if len(args) == 0:\n",
    "            return 0\n",
    "        return args[0]+1\n",
    "    def __str__(self):\n",
    "        return 'S'\n",
    "    def __eq__(self, other):\n",
    "        return self.code == other.code\n",
    "    \n",
    "S = successor()\n",
    "S(7)"
   ]
  },
  {
   "cell_type": "markdown",
   "metadata": {},
   "source": [
    "Projekcija $I : N^k \\rightarrow N$, $I(n,\\overrightarrow{x}) = x_n$, $1 \\leq n \\leq k$"
   ]
  },
  {
   "cell_type": "code",
   "execution_count": 354,
   "metadata": {},
   "outputs": [
    {
     "name": "stdout",
     "output_type": "stream",
     "text": [
      "2\n",
      "[2, 2]\n"
     ]
    }
   ],
   "source": [
    "class projection(object):\n",
    "    code = [2]\n",
    "    def __init__(self,n=1):\n",
    "        self.n = n\n",
    "        self.code = [2,n]\n",
    "    def __call__(self,*args):\n",
    "        if len(args) == 0:\n",
    "            return 0\n",
    "        # def: return last argument if n is out of args bounds\n",
    "        if len(args) < self.n:\n",
    "            return args[-1]\n",
    "        return args[self.n-1]\n",
    "    def __str__(self):\n",
    "        return 'I'+str(self.n)\n",
    "    def __eq__(self, other):\n",
    "        return self.code == other.code\n",
    "\n",
    "I2 = projection(2)\n",
    "print(I2(1,2,3,4))\n",
    "print(I2.code)\n",
    "    "
   ]
  },
  {
   "cell_type": "code",
   "execution_count": 355,
   "metadata": {},
   "outputs": [],
   "source": [
    "primes = [7,11,13,17,19]\n",
    "# TODO: Implement sieve of Atkin, just for fun"
   ]
  },
  {
   "cell_type": "markdown",
   "metadata": {},
   "source": [
    "Želimo označiti kopoziciju, primitivnu rekurziju i minimizaciju nekim posebnim kodovima\n",
    "\n",
    "- kompozicija -> 2\n",
    "- primitivna rekurzija -> 3\n",
    "- minimizacija -> 5"
   ]
  },
  {
   "cell_type": "markdown",
   "metadata": {},
   "source": [
    "### Kompozicija"
   ]
  },
  {
   "cell_type": "code",
   "execution_count": 356,
   "metadata": {},
   "outputs": [],
   "source": [
    "def compose(g, *hs):\n",
    "    hs_num = len(hs)\n",
    "    g_params = [None]*hs_num\n",
    "    class composition(object):\n",
    "        code = [3]\n",
    "        def __init__(self):\n",
    "            self.code.extend([g.code,*[h.code for h in hs]])\n",
    "        def __call__(self,*args):\n",
    "            for i in range(0,hs_num):\n",
    "                g_params[i] = hs[i](*args)\n",
    "            return g(*g_params)\n",
    "        def __str__(self):\n",
    "            name = '('+str(g)+'¤'\n",
    "            if(hs_num>1):\n",
    "                name += '('\n",
    "            for i in range(0,hs_num-1):\n",
    "                name += str(hs[i])+','\n",
    "            name += str(hs[-1])\n",
    "            if(hs_num>1):\n",
    "                name += ')'\n",
    "            return name+')'\n",
    "        def __eq__(self, other):\n",
    "            return self.code == other.code\n",
    "    return composition()\n",
    "    "
   ]
  },
  {
   "cell_type": "code",
   "execution_count": 357,
   "metadata": {},
   "outputs": [
    {
     "name": "stdout",
     "output_type": "stream",
     "text": [
      "1\n",
      "[3, [2, 2], 1, [3, 1, 0]]\n",
      "(I2¤(S,(S¤Z)))\n"
     ]
    }
   ],
   "source": [
    "test = compose(I2,S,compose(S,Z))\n",
    "print(test(11))\n",
    "print(test.code)\n",
    "print(test)"
   ]
  },
  {
   "cell_type": "markdown",
   "metadata": {},
   "source": [
    "### Primitivna rekurzija"
   ]
  },
  {
   "cell_type": "code",
   "execution_count": 358,
   "metadata": {},
   "outputs": [],
   "source": [
    "def prim_recurse(g, h):\n",
    "    class prim_recursion(object):\n",
    "        code = [4]\n",
    "        def __init__(self):\n",
    "            self.code.extend([g.code,h.code])\n",
    "        def __call__(self,*args):\n",
    "            # po definiciji\n",
    "            if isinstance(args,int):\n",
    "                # degenerate version\n",
    "                if args == 0:\n",
    "                    return g(0)\n",
    "                return h(args-1,prim_recurse(g,h)(args-1))\n",
    "            # non-degenerate\n",
    "            if args[-1] == 0:\n",
    "                return g(*args[:-1])\n",
    "            return h(*args[:-1],args[-1]-1,prim_recurse(g,h)(*args[:-1],args[-1]-1))\n",
    "        def __str__(self):\n",
    "            return '('+str(g)+\"pr\"+str(h)+')'\n",
    "        def __eq__(self, other):\n",
    "            return self.code == other.code\n",
    "    return prim_recursion()"
   ]
  },
  {
   "cell_type": "code",
   "execution_count": 359,
   "metadata": {},
   "outputs": [
    {
     "name": "stdout",
     "output_type": "stream",
     "text": [
      "(I1pr(S¤I3))\n",
      "9+11=20\n",
      "[4, [2, 1], [3, [4, 0, [2, 1]], [2, 3]]]\n",
      "5-2=3\n"
     ]
    }
   ],
   "source": [
    "I1 = projection(1)\n",
    "I3 = projection(3)\n",
    "add = prim_recurse(I1,compose(S,I3))\n",
    "print(add)\n",
    "print(\"9+11=\"+str(add(9,11)))\n",
    "\n",
    "pd = prim_recurse(Z,I1)\n",
    "#print(pd.code)\n",
    "sub = prim_recurse(I1,compose(pd,I3))\n",
    "print(sub.code)\n",
    "print(\"5-2=\"+str(sub(5,2)))"
   ]
  },
  {
   "cell_type": "markdown",
   "metadata": {},
   "source": [
    "### Minimizacija"
   ]
  },
  {
   "cell_type": "code",
   "execution_count": 360,
   "metadata": {},
   "outputs": [],
   "source": [
    "def minimize(g):\n",
    "    class minimization(object):\n",
    "        code = [5]\n",
    "        def __init__(self):\n",
    "            self.code.append(g.code)\n",
    "        def __call__(self,*args):\n",
    "            y = 0\n",
    "            # po definiciji\n",
    "            while g(*args,y) != 0: \n",
    "                y += 1\n",
    "                if y > 100:\n",
    "                    return -1\n",
    "            return y\n",
    "        def __str__(self):\n",
    "            return \"min(\"+str(g)+')'\n",
    "        def __eq__(self, other):\n",
    "            return self.code == other.code\n",
    "    return minimization()"
   ]
  },
  {
   "cell_type": "code",
   "execution_count": 361,
   "metadata": {},
   "outputs": [
    {
     "name": "stdout",
     "output_type": "stream",
     "text": [
      "[5, [4, [2, 1], [3, [4, 0, [2, 1]], [2, 3]]]]\n",
      "3\n"
     ]
    }
   ],
   "source": [
    "simple = minimize(sub)\n",
    "print(simple.code)\n",
    "print(simple(3))"
   ]
  },
  {
   "cell_type": "code",
   "execution_count": 362,
   "metadata": {},
   "outputs": [],
   "source": [
    "I = projection()\n",
    "f_dict = [Z,S,I]\n",
    "\n",
    "# creating functions from code\n",
    "def parse_from_code(code):\n",
    "    if isinstance(code,int):\n",
    "        if code == 0:\n",
    "            return zero()\n",
    "        if code == 1:\n",
    "            return successor()\n",
    "        raise ValueError(\"In this code position only zero (code 0) and successor (code 1) are allowed.\")\n",
    "    argl = len(code)-1\n",
    "    if code[0] == 2:\n",
    "        if argl == 1:\n",
    "            return projection(code[1])\n",
    "        raise ValueError(\"Projection (code 2) must be followed by 1 integer representing its projecting dimension but you provided \" + str(argl))\n",
    "    if code[0] == 3:\n",
    "        if argl > 1:\n",
    "            return compose(parse_from_code(code[1]),*[parse_from_code(hc) for hc in code[2:]])\n",
    "        raise ValueError(\"Composition (code 3) is defined with at least 2 functions (arguments) but you provided just \" + str(argl))\n",
    "    if code[0] == 4:\n",
    "        if argl == 2:\n",
    "            return prim_recurse(parse_from_code(code[1]), parse_from_code(code[2]))\n",
    "        raise ValueError(\"Primitive recursion (code 4) is defined with exactly 2 functions (arguments) but you provided \" + str(argl))\n",
    "    if(code[0] == 5):\n",
    "        if argl == 1:\n",
    "            return minimize(parse_from_code(code[1]))\n",
    "        raise ValueError(\"Minimization (code 5) is defined with exaclty 1 function (argument) but you provided \" + str(argl))    \n",
    "    else:\n",
    "        raise ValueError(\"Higher order function codes are: 3,4,5 but you provided \" + str(code[0]))"
   ]
  },
  {
   "cell_type": "code",
   "execution_count": 363,
   "metadata": {},
   "outputs": [
    {
     "name": "stdout",
     "output_type": "stream",
     "text": [
      "4\n",
      "[3, 1, 0]\n",
      "(S¤Z)\n",
      "[3, 1, [3, 1, 0]]\n",
      "(S¤(S¤Z))\n",
      "(Z¤(S,S,S))\n",
      "[4, [2, 1], [3, 1, [2, 3]]]\n",
      "(I1pr(S¤I3))\n"
     ]
    }
   ],
   "source": [
    "ss = parse_from_code(1)\n",
    "print(ss(3))\n",
    "\n",
    "comp_test = compose(S,Z)\n",
    "print(comp_test.code)\n",
    "print(parse_from_code(comp_test.code))\n",
    "\n",
    "ct2 = compose(S,comp_test)\n",
    "print(ct2.code)\n",
    "print(parse_from_code(ct2.code))\n",
    "\n",
    "print(parse_from_code([3,0,1,1,1]))\n",
    "\n",
    "print(add.code)\n",
    "print(parse_from_code(add.code))"
   ]
  },
  {
   "cell_type": "code",
   "execution_count": 364,
   "metadata": {},
   "outputs": [
    {
     "name": "stdout",
     "output_type": "stream",
     "text": [
      "((Z¤Z)prS)\n",
      "4\n"
     ]
    }
   ],
   "source": [
    "import numpy as np\n",
    "\n",
    "def random_function():\n",
    "    f1 = np.random.randint(0,3)\n",
    "    f2 = np.random.randint(0,3)\n",
    "    f12 = compose(f_dict[f1],f_dict[f2])\n",
    "    f3 = np.random.randint(0,3)\n",
    "    f123 = prim_recurse(f12,f_dict[f3])\n",
    "    return f123\n",
    "\n",
    "frand = random_function()\n",
    "\n",
    "print(frand)\n",
    "print(frand(3,2,3))\n",
    "    "
   ]
  },
  {
   "cell_type": "markdown",
   "metadata": {},
   "source": [
    "Radit ćemo s maksimalnom dimenzijom inputa 3"
   ]
  },
  {
   "cell_type": "code",
   "execution_count": 365,
   "metadata": {},
   "outputs": [
    {
     "name": "stdout",
     "output_type": "stream",
     "text": [
      "5\n"
     ]
    }
   ],
   "source": [
    "class addo(object):\n",
    "    function = prim_recurse(I1,compose(S,I3))\n",
    "    def __init__(self):\n",
    "        self.code = self.function.code\n",
    "    def __call__(self,*args):\n",
    "        return self.function(*args)\n",
    "    def __str__(self):\n",
    "        return \"add\"\n",
    "    \n",
    "add = addo()\n",
    "print(add(2,3))"
   ]
  },
  {
   "cell_type": "code",
   "execution_count": 377,
   "metadata": {},
   "outputs": [],
   "source": [
    "Z = zero()\n",
    "S = successor()\n",
    "I1 = projection(1)\n",
    "I2 = projection(2)\n",
    "I3 = projection(3)\n",
    "add = addo()\n",
    "\n",
    "funs = [Z,S,I1,I2,I3,add]\n",
    "\n",
    "def all_combinations(n):\n",
    "    if n==1:\n",
    "        return [f for f in funs]\n",
    "    functions = []\n",
    "    lowers = all_combinations(n-1)\n",
    "    for lf in lowers:\n",
    "        \n",
    "        functions.append(minimize(lf))\n",
    "        \n",
    "        for f in funs:\n",
    "            \n",
    "            c12 = compose(f,lf)\n",
    "            if c12 not in functions:\n",
    "                functions.append(c12)\n",
    "            if lf is not f:\n",
    "                c21 = compose(lf,f)\n",
    "                if c21 not in functions:\n",
    "                    functions.append(c21)\n",
    "            \n",
    "            p12 = prim_recurse(f,lf)\n",
    "            if p12 not in functions:\n",
    "                functions.append(p12)\n",
    "            if lf is not f:\n",
    "                p21 = prim_recurse(lf,f)\n",
    "                if p21 not in functions:\n",
    "                    functions.append(p21)\n",
    "                    \n",
    "    return functions\n",
    "    "
   ]
  },
  {
   "cell_type": "code",
   "execution_count": 382,
   "metadata": {},
   "outputs": [
    {
     "name": "stdout",
     "output_type": "stream",
     "text": [
      "Functions count: 78\n",
      "(S¤add) 8\n",
      "Done.\n"
     ]
    }
   ],
   "source": [
    "testfs = all_combinations(2)\n",
    "\n",
    "print(\"Functions count:\", len(testfs))\n",
    "\n",
    "for tf in testfs:\n",
    "    if tf(2,3) == 6:\n",
    "        print(tf, tf(2,5))\n",
    "\n",
    "print(\"Done.\")"
   ]
  },
  {
   "cell_type": "code",
   "execution_count": 385,
   "metadata": {},
   "outputs": [
    {
     "name": "stdout",
     "output_type": "stream",
     "text": [
      "Available matplotlib backends: ['tk', 'gtk', 'gtk3', 'wx', 'qt4', 'qt5', 'qt', 'osx', 'nbagg', 'notebook', 'agg', 'inline', 'ipympl', 'widget']\n"
     ]
    }
   ],
   "source": [
    "\"\"\"\n",
    "=====\n",
    "Decay\n",
    "=====\n",
    "\n",
    "This example showcases a sinusoidal decay animation.\n",
    "\"\"\"\n",
    "\n",
    "\n",
    "%matplotlib -l\n",
    "%matplotlib agg\n",
    "\n",
    "import numpy as np\n",
    "import matplotlib.pyplot as plt\n",
    "import matplotlib.animation as animation\n",
    "\n",
    "\n",
    "def data_gen(t=0):\n",
    "    cnt = 0\n",
    "    while cnt < 1000:\n",
    "        cnt += 1\n",
    "        t += 0.1\n",
    "        yield t, np.sin(2*np.pi*t) * np.exp(-t/10.)\n",
    "\n",
    "\n",
    "def init():\n",
    "    ax.set_ylim(-1.1, 1.1)\n",
    "    ax.set_xlim(0, 10)\n",
    "    del xdata[:]\n",
    "    del ydata[:]\n",
    "    line.set_data(xdata, ydata)\n",
    "    return line,\n",
    "\n",
    "fig, ax = plt.subplots()\n",
    "line, = ax.plot([], [], lw=2)\n",
    "ax.grid()\n",
    "xdata, ydata = [], []\n",
    "\n",
    "\n",
    "def run(data):\n",
    "    # update the data\n",
    "    t, y = data\n",
    "    xdata.append(t)\n",
    "    ydata.append(y)\n",
    "    xmin, xmax = ax.get_xlim()\n",
    "\n",
    "    if t >= xmax:\n",
    "        ax.set_xlim(xmin, 2*xmax)\n",
    "        ax.figure.canvas.draw()\n",
    "    line.set_data(xdata, ydata)\n",
    "\n",
    "    return line,\n",
    "\n",
    "ani = animation.FuncAnimation(fig, run, data_gen, blit=False, interval=10,\n",
    "                              repeat=False, init_func=init)\n",
    "plt.show()"
   ]
  },
  {
   "cell_type": "code",
   "execution_count": null,
   "metadata": {},
   "outputs": [],
   "source": []
  }
 ],
 "metadata": {
  "kernelspec": {
   "display_name": "Python 3",
   "language": "python",
   "name": "python3"
  },
  "language_info": {
   "codemirror_mode": {
    "name": "ipython",
    "version": 3
   },
   "file_extension": ".py",
   "mimetype": "text/x-python",
   "name": "python",
   "nbconvert_exporter": "python",
   "pygments_lexer": "ipython3",
   "version": "3.6.4"
  }
 },
 "nbformat": 4,
 "nbformat_minor": 2
}
