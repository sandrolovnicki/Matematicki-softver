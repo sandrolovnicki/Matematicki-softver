{
 "cells": [
  {
   "cell_type": "markdown",
   "metadata": {},
   "source": [
    "# Kodiranje izračunljivih funkcija"
   ]
  },
  {
   "cell_type": "markdown",
   "metadata": {},
   "source": [
    "Nula $Z : N^k \\rightarrow N$, $Z(\\overrightarrow{x}) = 0$"
   ]
  },
  {
   "cell_type": "code",
   "execution_count": 135,
   "metadata": {},
   "outputs": [
    {
     "data": {
      "text/plain": [
       "0"
      ]
     },
     "execution_count": 135,
     "metadata": {},
     "output_type": "execute_result"
    }
   ],
   "source": [
    "class zero(object):\n",
    "    code = 1\n",
    "    def __call__(self,*args):\n",
    "        return 0\n",
    "\n",
    "Z = zero()\n",
    "Z(3,2,5)"
   ]
  },
  {
   "cell_type": "markdown",
   "metadata": {},
   "source": [
    "Sljedbenik $S : N \\rightarrow N$, $S(x) = x+1$"
   ]
  },
  {
   "cell_type": "code",
   "execution_count": 140,
   "metadata": {},
   "outputs": [
    {
     "data": {
      "text/plain": [
       "8"
      ]
     },
     "execution_count": 140,
     "metadata": {},
     "output_type": "execute_result"
    }
   ],
   "source": [
    "class successor(object):\n",
    "    code = 2\n",
    "    def __call__(self,n):\n",
    "        return n+1\n",
    "    \n",
    "S = successor()\n",
    "S(7)"
   ]
  },
  {
   "cell_type": "markdown",
   "metadata": {},
   "source": [
    "Projekcija $I : N^k \\rightarrow N$, $I(n,\\overrightarrow{x}) = x_n$, $1 \\leq n \\leq k$"
   ]
  },
  {
   "cell_type": "code",
   "execution_count": 139,
   "metadata": {},
   "outputs": [
    {
     "data": {
      "text/plain": [
       "3"
      ]
     },
     "execution_count": 139,
     "metadata": {},
     "output_type": "execute_result"
    }
   ],
   "source": [
    "class projection(object):\n",
    "    code = 3\n",
    "    def __call__(self,n):\n",
    "        return lambda *args: args[n-1]\n",
    "\n",
    "I = projection()\n",
    "I(3)(1,2,3,4)\n",
    "    "
   ]
  },
  {
   "cell_type": "markdown",
   "metadata": {},
   "source": [
    "### Kompozicija"
   ]
  },
  {
   "cell_type": "code",
   "execution_count": 141,
   "metadata": {},
   "outputs": [],
   "source": [
    "def compose(g, *hs):\n",
    "    hs_num = len(hs)\n",
    "    #print(\"hs_num: \", hs_num)\n",
    "    g_params = [None]*hs_num\n",
    "    def composition(*args):\n",
    "        for i in range(0,hs_num):\n",
    "            g_params[i] = hs[i](*args)\n",
    "            #print(\"g_params[{}]: {}\".format(i, g_params[i]))\n",
    "        return g(*g_params)\n",
    "    return composition\n",
    "    "
   ]
  },
  {
   "cell_type": "code",
   "execution_count": 143,
   "metadata": {},
   "outputs": [
    {
     "data": {
      "text/plain": [
       "2"
      ]
     },
     "execution_count": 143,
     "metadata": {},
     "output_type": "execute_result"
    }
   ],
   "source": [
    "test = compose(S,compose(I(2),S,compose(S,Z),S))\n",
    "test(11)"
   ]
  },
  {
   "cell_type": "code",
   "execution_count": null,
   "metadata": {},
   "outputs": [],
   "source": []
  }
 ],
 "metadata": {
  "kernelspec": {
   "display_name": "Python 3",
   "language": "python",
   "name": "python3"
  },
  "language_info": {
   "codemirror_mode": {
    "name": "ipython",
    "version": 3
   },
   "file_extension": ".py",
   "mimetype": "text/x-python",
   "name": "python",
   "nbconvert_exporter": "python",
   "pygments_lexer": "ipython3",
   "version": "3.6.4"
  }
 },
 "nbformat": 4,
 "nbformat_minor": 2
}
