{
 "cells": [
  {
   "cell_type": "markdown",
   "metadata": {},
   "source": [
    "# Kodiranje izračunljivih funkcija"
   ]
  },
  {
   "cell_type": "markdown",
   "metadata": {},
   "source": [
    "Nula $Z : N^k \\rightarrow N$, $Z(\\overrightarrow{x}) = 0$"
   ]
  },
  {
   "cell_type": "code",
   "execution_count": 238,
   "metadata": {},
   "outputs": [
    {
     "name": "stdout",
     "output_type": "stream",
     "text": [
      "0\n",
      "Z\n"
     ]
    }
   ],
   "source": [
    "class zero(object):\n",
    "    code = 0\n",
    "    def __call__(self,*args):\n",
    "        return 0\n",
    "    def __str__(self):\n",
    "        return 'Z'\n",
    "\n",
    "Z = zero()\n",
    "print(Z(3,2,5))\n",
    "print(Z)"
   ]
  },
  {
   "cell_type": "markdown",
   "metadata": {},
   "source": [
    "Sljedbenik $S : N \\rightarrow N$, $S(x) = x+1$"
   ]
  },
  {
   "cell_type": "code",
   "execution_count": 239,
   "metadata": {},
   "outputs": [
    {
     "data": {
      "text/plain": [
       "8"
      ]
     },
     "execution_count": 239,
     "metadata": {},
     "output_type": "execute_result"
    }
   ],
   "source": [
    "class successor(object):\n",
    "    code = 1\n",
    "    def __call__(self,n):\n",
    "        return n+1\n",
    "    def __str__(self):\n",
    "        return 'S'\n",
    "    \n",
    "S = successor()\n",
    "S(7)"
   ]
  },
  {
   "cell_type": "markdown",
   "metadata": {},
   "source": [
    "Projekcija $I : N^k \\rightarrow N$, $I(n,\\overrightarrow{x}) = x_n$, $1 \\leq n \\leq k$"
   ]
  },
  {
   "cell_type": "code",
   "execution_count": 345,
   "metadata": {},
   "outputs": [
    {
     "name": "stdout",
     "output_type": "stream",
     "text": [
      "2\n",
      "I2\n"
     ]
    }
   ],
   "source": [
    "class projection(object):\n",
    "    code = 2\n",
    "    def __init__(self,n=1):\n",
    "        self.n = n\n",
    "    def __call__(self,*args):\n",
    "        return args[self.n-1]\n",
    "    def __str__(self):\n",
    "        return 'I'+str(self.n)\n",
    "\n",
    "I2 = projection(2)\n",
    "print(I2(1,2,3,4))\n",
    "print(I2)\n",
    "    "
   ]
  },
  {
   "cell_type": "code",
   "execution_count": 397,
   "metadata": {},
   "outputs": [],
   "source": [
    "primes = [7,11,13,17,19]\n",
    "# TODO: Implement sieve of Atkin, just for fun"
   ]
  },
  {
   "cell_type": "markdown",
   "metadata": {},
   "source": [
    "Želimo označiti kopoziciju, primitivnu rekurziju i minimizaciju nekim posebnim kodovima\n",
    "\n",
    "- kompozicija -> 2\n",
    "- primitivna rekurzija -> 3\n",
    "- minimizacija -> 5"
   ]
  },
  {
   "cell_type": "markdown",
   "metadata": {},
   "source": [
    "### Kompozicija"
   ]
  },
  {
   "cell_type": "code",
   "execution_count": 402,
   "metadata": {},
   "outputs": [],
   "source": [
    "import operator\n",
    "from functools import reduce\n",
    "\n",
    "def compose(g, *hs):\n",
    "    hs_num = len(hs)\n",
    "    g_params = [None]*hs_num\n",
    "    class composition(object):\n",
    "        #TODO: unique primes to represent ¤\n",
    "        code = 2 * primes[0]**(1+g.code) * reduce(operator.mul, (primes[ob_i+1]**(1+ob.code) for ob_i,ob in enumerate(hs)), 1)\n",
    "        def __call__(self,*args):\n",
    "            for i in range(0,hs_num):\n",
    "                g_params[i] = hs[i](*args)\n",
    "                #print(\"g_params[{}]: {}\".format(i, g_params[i]))\n",
    "            return g(*g_params)\n",
    "        def __str__(self):\n",
    "            name = '('+str(g)+'¤'\n",
    "            if(hs_num>1):\n",
    "                name += '('\n",
    "            for i in range(0,hs_num-1):\n",
    "                name += str(hs[i])+','\n",
    "            name += str(hs[-1])\n",
    "            if(hs_num>1):\n",
    "                name += ')'\n",
    "            return name+')'\n",
    "    return composition()\n",
    "    "
   ]
  },
  {
   "cell_type": "code",
   "execution_count": 375,
   "metadata": {},
   "outputs": [
    {
     "name": "stdout",
     "output_type": "stream",
     "text": [
      "1\n",
      "87890625000\n",
      "(I2¤(S,(S¤Z)))\n"
     ]
    }
   ],
   "source": [
    "test = compose(I2,S,compose(S,Z))\n",
    "print(test(11))\n",
    "print(test.code)\n",
    "print(test)"
   ]
  },
  {
   "cell_type": "markdown",
   "metadata": {},
   "source": [
    "### Primitivna rekurzija"
   ]
  },
  {
   "cell_type": "code",
   "execution_count": 376,
   "metadata": {},
   "outputs": [],
   "source": [
    "def prim_recurse(g, h):\n",
    "    class prim_recursion(object):\n",
    "        #TODO: unique primes to represent pr\n",
    "        code = 1 #primes[0]**(1+g.code) * primes[1]**(1+h.code) -> something is wrong ?:/?\n",
    "        def __call__(self,*args):\n",
    "            # po definiciji\n",
    "            if len(args) == 1:\n",
    "                # degenerirana verzija\n",
    "                arg = args[0]\n",
    "                if arg == 0:\n",
    "                    return g()\n",
    "                return h(arg-1,prim_recurse(g,h)(arg-1))\n",
    "            # ne-degenerirana verzija\n",
    "            if args[-1] == 0:\n",
    "                return g(*args[:-1])\n",
    "            return h(*args[:-1],args[-1]-1,prim_recurse(g,h)(*args[:-1],args[-1]-1))\n",
    "        def __str__(self):\n",
    "            return '('+str(g)+\"pr\"+str(h)+')'\n",
    "    return prim_recursion()"
   ]
  },
  {
   "cell_type": "code",
   "execution_count": 377,
   "metadata": {},
   "outputs": [
    {
     "name": "stdout",
     "output_type": "stream",
     "text": [
      "(I1pr(S¤I3))\n",
      "9+11=20\n",
      "5-2=3\n"
     ]
    }
   ],
   "source": [
    "I1 = projection(1)\n",
    "I3 = projection(3)\n",
    "add = prim_recurse(I1,compose(S,I3))\n",
    "print(add)\n",
    "print(\"9+11=\"+str(add(9,11)))\n",
    "\n",
    "pd = prim_recurse(Z,I1)\n",
    "#print(pd.code)\n",
    "sub = prim_recurse(I1,compose(pd,I3))\n",
    "print(\"5-2=\"+str(sub(5,2)))"
   ]
  },
  {
   "cell_type": "markdown",
   "metadata": {},
   "source": [
    "### Minimizacija"
   ]
  },
  {
   "cell_type": "code",
   "execution_count": 396,
   "metadata": {},
   "outputs": [],
   "source": [
    "def minimize(g):\n",
    "    class minimization(object):\n",
    "        #TODO: unique primes to represent min\n",
    "        code = 5 * primes[0]**(1+g.code)\n",
    "        def __call__(self,*args):\n",
    "            y = 0\n",
    "            # po definiciji\n",
    "            while g(*args,y) != 0: \n",
    "                y += 1\n",
    "            return y\n",
    "        def __str__(self):\n",
    "            return \"min(\"+str(g)+')'\n",
    "    return minimization()"
   ]
  },
  {
   "cell_type": "code",
   "execution_count": 394,
   "metadata": {},
   "outputs": [
    {
     "name": "stdout",
     "output_type": "stream",
     "text": [
      "min((I1pr((ZprI1)¤I3)))\n",
      "3\n"
     ]
    }
   ],
   "source": [
    "simple = minimize(sub)\n",
    "print(simple)\n",
    "print(simple(3))"
   ]
  },
  {
   "cell_type": "code",
   "execution_count": 416,
   "metadata": {},
   "outputs": [],
   "source": [
    "I = projection()\n",
    "f_dict = [Z,S,I]\n",
    "\n",
    "def from_code(n):\n",
    "    name = \"\"\n",
    "    if n%2 == 0:\n",
    "        name += \"compose(\"\n",
    "        n //= 2\n",
    "    g_code = 0\n",
    "    h_code = 0\n",
    "    while n%7 == 0:\n",
    "        n //= 7\n",
    "        g_code += 1\n",
    "    if g_code < 4:\n",
    "        name += str(f_dict[g_code-1])\n",
    "    name += ','\n",
    "    while n%11 == 0:\n",
    "        n //= 11\n",
    "        h_code += 1\n",
    "    if h_code < 4:\n",
    "        name += str(f_dict[h_code-1])\n",
    "    else:\n",
    "        name += from_code(h_code-1)\n",
    "    return name+')'"
   ]
  },
  {
   "cell_type": "code",
   "execution_count": 419,
   "metadata": {},
   "outputs": [
    {
     "name": "stdout",
     "output_type": "stream",
     "text": [
      "1\n",
      "1078\n",
      "compose(S,Z)\n",
      "2\n",
      "4507475360790676180009701740864752314046216516403678533312197402331930861075300140754534092508473625339835798179301973186323684585015003734158292969475921642188125150174271179370147724299975825213061317217719680182305066487977874920689068826194723260801812551828670762367113634668217429553768516971374363319749179804779614984512878582565928807963703188841599374418998767835305350262977374411781936300791218695809971103670998467051166275108317686133759296928799310882067021688063333308842063444260368362683220609379340792424876985209177121944255682694872754607701027287389032530435156154926248016324144232419214167125848301206077681688114930583252119844044772666180327296230946001400721760386492991951821469842467399659213863552825652633132761122260114783609178262182234469058716841620983311279744391256136376341743930903492472491563083202870411171419030105999912535786830889102714236338429731172726160900240839223430396958140616125309117926813637719616063119588540151955531309671719160688902862530888244296972262721184428709008226287936447714253731944882297018379226786993193025523664152214757647574769675776932985035546273318\n",
      "compose(S,compose(S,Z))\n"
     ]
    }
   ],
   "source": [
    "comp_test = compose(S,Z)\n",
    "print(comp_test(7))\n",
    "print(comp_test.code)\n",
    "print(from_code(comp_test.code))\n",
    "\n",
    "ct2 = compose(S,comp_test)\n",
    "print(ct2(7))\n",
    "print(ct2.code)\n",
    "print(from_code(ct2.code))"
   ]
  },
  {
   "cell_type": "code",
   "execution_count": null,
   "metadata": {},
   "outputs": [],
   "source": []
  }
 ],
 "metadata": {
  "kernelspec": {
   "display_name": "Python 3",
   "language": "python",
   "name": "python3"
  },
  "language_info": {
   "codemirror_mode": {
    "name": "ipython",
    "version": 3
   },
   "file_extension": ".py",
   "mimetype": "text/x-python",
   "name": "python",
   "nbconvert_exporter": "python",
   "pygments_lexer": "ipython3",
   "version": "3.6.4"
  }
 },
 "nbformat": 4,
 "nbformat_minor": 2
}
