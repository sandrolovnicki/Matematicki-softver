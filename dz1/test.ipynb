{
 "cells": [
  {
   "cell_type": "markdown",
   "metadata": {},
   "source": [
    "# Zabavna analiza izračunljivih funkcija\n",
    "\n",
    "---\n",
    "    \n",
    "**KODOVI:**\n",
    "\n",
    "- zero -> 0\n",
    "- successor -> 1\n",
    "- projekcija(n) -> [2,n]\n",
    "- kompozicija -> [3,g.code,*[h.code for h in hs]]\n",
    "- primitivna rekurzija -> [4,g.code,h.code]\n",
    "- minimizacija -> [5,g.code]"
   ]
  },
  {
   "cell_type": "markdown",
   "metadata": {},
   "source": [
    "## Kratak uvod u izračunljivost\n",
    "$\\newcommand{\\code}[1]{\\texttt{#1}}$\n",
    "Posve neformalno, ali dovoljno precizno; kažemo da je funkcija izračunljiva ako je možemo kreirati pomoću inicijalnih funkcija.\n",
    "Inicijalne funkcije su nula, sljedbenik i projekcija. Alati za kreiranja koje imamo na raspolaganju su kompozicija, primitivna rekurzija i minimizacija.\n",
    "Sve inicijalne funkcija, kompoziciju, primitivnu rekurziju i minimizaciju napisat ćemo kao objekte sličnih svojstava, te ćemo dodatno definirati i funkcije višeg reda $\\code{compose}$, $\\code{prim_recurse}$ i $\\code{minimize}$ kojima ćemo lako kreirati nove funkcije."
   ]
  },
  {
   "cell_type": "markdown",
   "metadata": {},
   "source": [
    "### Nula\n",
    "\n",
    "Nulu je funkcija koju označujemo sa $\\code{Z}$ i definiramo:\n",
    "$Z : N^k \\rightarrow N$,  $Z(\\overrightarrow{x}) = 0$"
   ]
  },
  {
   "cell_type": "code",
   "execution_count": 446,
   "metadata": {},
   "outputs": [],
   "source": [
    "class zero(object):\n",
    "    code = 0\n",
    "    def __call__(self,*args):\n",
    "        return 0\n",
    "    def __str__(self):\n",
    "        return 'Z'\n",
    "    def __eq__(self, other):\n",
    "        return self.code == other.code"
   ]
  },
  {
   "cell_type": "markdown",
   "metadata": {},
   "source": [
    "Pogledajmo ponašanje ovog objekta i primijetimo njegova svojstva na sljedećim primjerima."
   ]
  },
  {
   "cell_type": "code",
   "execution_count": 447,
   "metadata": {},
   "outputs": [
    {
     "name": "stdout",
     "output_type": "stream",
     "text": [
      "0 0 0\n",
      "Z\n"
     ]
    }
   ],
   "source": [
    "Z = zero()\n",
    "print(Z(), Z(3), Z(3,2,5))\n",
    "print(Z)"
   ]
  },
  {
   "cell_type": "markdown",
   "metadata": {},
   "source": [
    "### Sljedbenik\n",
    "Funkciju sljedbenika označujemo sa $\\code{S}$ i **inače** definiramo:\n",
    "$S : N \\rightarrow N$, $S(x) = x+1$.\n",
    "Da bismo izbjegli neželjene greške vezane uz broj argumenata (a želimo kod zadržati koliko-toliko jednostavnim) kad ćemo kreirati sve moguće kombinacije od 1,2,3,... inicijalne funkcije, definirat ćemo funkciju sljedbenika kao: $S : N^k \\rightarrow N$, $S(\\overrightarrow{x}) = x_1+1$"
   ]
  },
  {
   "cell_type": "code",
   "execution_count": 448,
   "metadata": {},
   "outputs": [],
   "source": [
    "class successor(object):\n",
    "    code = 1\n",
    "    #def: accept even multiple aguments, but work with first\n",
    "    def __call__(self,*args):\n",
    "        if len(args) == 0:\n",
    "            return 0\n",
    "        return args[0]+1\n",
    "    def __str__(self):\n",
    "        return 'S'\n",
    "    def __eq__(self, other):\n",
    "        return self.code == other.code"
   ]
  },
  {
   "cell_type": "code",
   "execution_count": 449,
   "metadata": {},
   "outputs": [
    {
     "name": "stdout",
     "output_type": "stream",
     "text": [
      "0 3 3\n",
      "S\n"
     ]
    }
   ],
   "source": [
    "S = successor()\n",
    "print(S(), S(2), S(2,3,5))\n",
    "print(S)"
   ]
  },
  {
   "cell_type": "markdown",
   "metadata": {},
   "source": [
    "Projekcija $I : N^k \\rightarrow N$, $I(n,\\overrightarrow{x}) = x_n$, $1 \\leq n \\leq k$"
   ]
  },
  {
   "cell_type": "code",
   "execution_count": 450,
   "metadata": {},
   "outputs": [
    {
     "name": "stdout",
     "output_type": "stream",
     "text": [
      "2\n",
      "[2, 2]\n",
      "I2\n"
     ]
    }
   ],
   "source": [
    "class projection(object):\n",
    "    code = [2]\n",
    "    def __init__(self,n=1):\n",
    "        self.n = n\n",
    "        self.code = [2,n]\n",
    "    def __call__(self,*args):\n",
    "        if len(args) == 0:\n",
    "            return 0\n",
    "        # def: return last argument if n is out of args bounds\n",
    "        if len(args) < self.n:\n",
    "            return args[-1]\n",
    "        return args[self.n-1]\n",
    "    def __str__(self):\n",
    "        return 'I'+str(self.n)\n",
    "    def __eq__(self, other):\n",
    "        return self.code == other.code\n",
    "\n",
    "I2 = projection(2)\n",
    "print(I2(1,2,3,4))\n",
    "print(I2.code)\n",
    "print(I2)\n",
    "    "
   ]
  },
  {
   "cell_type": "markdown",
   "metadata": {},
   "source": [
    "### Kompozicija"
   ]
  },
  {
   "cell_type": "code",
   "execution_count": 451,
   "metadata": {},
   "outputs": [],
   "source": [
    "def compose(g, *hs):\n",
    "    hs_num = len(hs)\n",
    "    g_params = [None]*hs_num\n",
    "    class composition(object):\n",
    "        code = [3]\n",
    "        def __init__(self):\n",
    "            self.code.extend([g.code,*[h.code for h in hs]])\n",
    "        def __call__(self,*args):\n",
    "            for i in range(0,hs_num):\n",
    "                g_params[i] = hs[i](*args)\n",
    "            return g(*g_params)\n",
    "        def __str__(self):\n",
    "            try:\n",
    "                return self.name\n",
    "            except AttributeError:\n",
    "                name = '('+str(g)+'¤'\n",
    "                if(hs_num>1):\n",
    "                    name += '('\n",
    "                for i in range(0,hs_num-1):\n",
    "                    name += str(hs[i])+','\n",
    "                name += str(hs[-1])\n",
    "                if(hs_num>1):\n",
    "                    name += ')'\n",
    "                return name+')'\n",
    "        def __eq__(self, other):\n",
    "            return self.code == other.code\n",
    "        def set_name(self,name):\n",
    "            self.name = name\n",
    "    return composition()\n",
    "    "
   ]
  },
  {
   "cell_type": "code",
   "execution_count": 456,
   "metadata": {},
   "outputs": [
    {
     "name": "stdout",
     "output_type": "stream",
     "text": [
      "1\n",
      "[3, [2, 2], 1, [3, 1, 0]]\n",
      "(I2¤(S,(S¤Z)))\n",
      "test\n"
     ]
    }
   ],
   "source": [
    "test = compose(I2,S,compose(S,Z))\n",
    "print(test(11))\n",
    "print(test.code)\n",
    "print(test)\n",
    "test.set_name(\"test\")\n",
    "print(test)"
   ]
  },
  {
   "cell_type": "markdown",
   "metadata": {},
   "source": [
    "### Primitivna rekurzija"
   ]
  },
  {
   "cell_type": "code",
   "execution_count": 453,
   "metadata": {},
   "outputs": [],
   "source": [
    "def prim_recurse(g, h):\n",
    "    class prim_recursion(object):\n",
    "        code = [4]\n",
    "        def __init__(self):\n",
    "            self.code.extend([g.code,h.code])\n",
    "        def __call__(self,*args):\n",
    "            # po definiciji\n",
    "            if isinstance(args,int):\n",
    "                # degenerate version\n",
    "                if args == 0:\n",
    "                    return g(0)\n",
    "                return h(args-1,prim_recurse(g,h)(args-1))\n",
    "            # non-degenerate\n",
    "            if args[-1] == 0:\n",
    "                return g(*args[:-1])\n",
    "            return h(*args[:-1],args[-1]-1,prim_recurse(g,h)(*args[:-1],args[-1]-1))\n",
    "        def __str__(self):\n",
    "            try:\n",
    "                return self.name\n",
    "            except AttributeError:\n",
    "                return '('+str(g)+\".PR.\"+str(h)+')'\n",
    "        def __eq__(self, other):\n",
    "            return self.code == other.code\n",
    "        def set_name(self,name):\n",
    "            self.name = name\n",
    "    return prim_recursion()"
   ]
  },
  {
   "cell_type": "code",
   "execution_count": 454,
   "metadata": {},
   "outputs": [
    {
     "name": "stdout",
     "output_type": "stream",
     "text": [
      "(I1.PR.(S¤I3))\n",
      "9+11=20\n",
      "(I1.PR.((Z.PR.I1)¤I3))\n",
      "5-2=3\n"
     ]
    }
   ],
   "source": [
    "I1 = projection(1)\n",
    "I3 = projection(3)\n",
    "add = prim_recurse(I1,compose(S,I3))\n",
    "print(add)\n",
    "print(\"9+11=\"+str(add(9,11)))\n",
    "\n",
    "pd = prim_recurse(Z,I1)\n",
    "#print(pd.code)\n",
    "sub = prim_recurse(I1,compose(pd,I3))\n",
    "print(sub)\n",
    "print(\"5-2=\"+str(sub(5,2)))"
   ]
  },
  {
   "cell_type": "markdown",
   "metadata": {},
   "source": [
    "### Minimizacija"
   ]
  },
  {
   "cell_type": "code",
   "execution_count": 455,
   "metadata": {},
   "outputs": [],
   "source": [
    "def minimize(g):\n",
    "    class minimization(object):\n",
    "        code = [5]\n",
    "        def __init__(self):\n",
    "            self.code.append(g.code)\n",
    "        def __call__(self,*args):\n",
    "            y = 0\n",
    "            # po definiciji\n",
    "            while g(*args,y) != 0: \n",
    "                y += 1\n",
    "                if y > 100:\n",
    "                    return -1\n",
    "            return y\n",
    "        def __str__(self):\n",
    "            try:\n",
    "                return self.name\n",
    "            except AttributeError:\n",
    "                return \"min(\"+str(g)+')'\n",
    "        def __eq__(self, other):\n",
    "            return self.code == other.code\n",
    "        def set_name(self,name):\n",
    "            self.name = name\n",
    "    return minimization()"
   ]
  },
  {
   "cell_type": "code",
   "execution_count": 424,
   "metadata": {},
   "outputs": [
    {
     "name": "stdout",
     "output_type": "stream",
     "text": [
      "[5, [4, [2, 1], [3, [4, 0, [2, 1]], [2, 3]]]]\n",
      "3\n"
     ]
    }
   ],
   "source": [
    "simple = minimize(sub)\n",
    "print(simple.code)\n",
    "print(simple(3))"
   ]
  },
  {
   "cell_type": "markdown",
   "metadata": {},
   "source": [
    "## Primjeri izračunljivih funkcija\n",
    "\n",
    "**TODO**\n",
    "...................\n",
    "\n",
    "---"
   ]
  },
  {
   "cell_type": "code",
   "execution_count": 425,
   "metadata": {},
   "outputs": [],
   "source": [
    "# creating functions from code\n",
    "def parse_from_code(code):\n",
    "    if isinstance(code,int):\n",
    "        if code == 0:\n",
    "            return zero()\n",
    "        if code == 1:\n",
    "            return successor()\n",
    "        raise ValueError(\"In this code position only zero (code 0) and successor (code 1) are allowed.\")\n",
    "    argl = len(code)-1\n",
    "    if code[0] == 2:\n",
    "        if argl == 1:\n",
    "            return projection(code[1])\n",
    "        raise ValueError(\"Projection (code 2) must be followed by 1 integer representing its projecting dimension but you provided \" + str(argl))\n",
    "    if code[0] == 3:\n",
    "        if argl > 1:\n",
    "            return compose(parse_from_code(code[1]),*[parse_from_code(hc) for hc in code[2:]])\n",
    "        raise ValueError(\"Composition (code 3) is defined with at least 2 functions (arguments) but you provided just \" + str(argl))\n",
    "    if code[0] == 4:\n",
    "        if argl == 2:\n",
    "            return prim_recurse(parse_from_code(code[1]), parse_from_code(code[2]))\n",
    "        raise ValueError(\"Primitive recursion (code 4) is defined with exactly 2 functions (arguments) but you provided \" + str(argl))\n",
    "    if(code[0] == 5):\n",
    "        if argl == 1:\n",
    "            return minimize(parse_from_code(code[1]))\n",
    "        raise ValueError(\"Minimization (code 5) is defined with exaclty 1 function (argument) but you provided \" + str(argl))    \n",
    "    else:\n",
    "        raise ValueError(\"Higher order function codes are: 3,4,5 but you provided \" + str(code[0]))"
   ]
  },
  {
   "cell_type": "code",
   "execution_count": 426,
   "metadata": {},
   "outputs": [
    {
     "name": "stdout",
     "output_type": "stream",
     "text": [
      "4\n",
      "[3, 1, 0]\n",
      "(S¤Z)\n",
      "[3, 1, [3, 1, 0]]\n",
      "(S¤(S¤Z))\n",
      "(Z¤(S,S,S))\n",
      "[4, [2, 1], [3, 1, [2, 3]]]\n",
      "(I1pr(S¤I3))\n"
     ]
    }
   ],
   "source": [
    "ss = parse_from_code(1)\n",
    "print(ss(3))\n",
    "\n",
    "comp_test = compose(S,Z)\n",
    "print(comp_test.code)\n",
    "print(parse_from_code(comp_test.code))\n",
    "\n",
    "ct2 = compose(S,comp_test)\n",
    "print(ct2.code)\n",
    "print(parse_from_code(ct2.code))\n",
    "\n",
    "print(parse_from_code([3,0,1,1,1]))\n",
    "\n",
    "print(add.code)\n",
    "print(parse_from_code(add.code))"
   ]
  },
  {
   "cell_type": "code",
   "execution_count": 458,
   "metadata": {},
   "outputs": [
    {
     "name": "stdout",
     "output_type": "stream",
     "text": [
      "5\n"
     ]
    }
   ],
   "source": [
    "add = prim_recurse(I1,compose(S,I3))\n",
    "add.set_name(\"add\")\n",
    "print(add(2,3))"
   ]
  },
  {
   "cell_type": "code",
   "execution_count": 459,
   "metadata": {},
   "outputs": [],
   "source": [
    "Z = zero()\n",
    "S = successor()\n",
    "\n",
    "funs = [Z,S,add]\n",
    "\n",
    "def all_combinations(n,argnum):\n",
    "    # add appropriate projections\n",
    "    for i in range (1,argnum+1):\n",
    "        funs.append(projection(i))\n",
    "    # start algorithm\n",
    "    if n==1:\n",
    "        return [f for f in funs]\n",
    "    functions = []\n",
    "    lowers = all_combinations(n-1,argnum)\n",
    "    for lf in lowers:\n",
    "        \n",
    "        functions.append(minimize(lf))\n",
    "        \n",
    "        for f in funs:\n",
    "            \n",
    "            c12 = compose(f,lf)\n",
    "            if c12 not in functions:\n",
    "                functions.append(c12)\n",
    "            if lf is not f:\n",
    "                c21 = compose(lf,f)\n",
    "                if c21 not in functions:\n",
    "                    functions.append(c21)\n",
    "            \n",
    "            p12 = prim_recurse(f,lf)\n",
    "            if p12 not in functions:\n",
    "                functions.append(p12)\n",
    "            if lf is not f:\n",
    "                p21 = prim_recurse(lf,f)\n",
    "                if p21 not in functions:\n",
    "                    functions.append(p21)\n",
    "                    \n",
    "    return functions\n",
    "    "
   ]
  },
  {
   "cell_type": "code",
   "execution_count": 460,
   "metadata": {},
   "outputs": [
    {
     "name": "stdout",
     "output_type": "stream",
     "text": [
      "Functions count: 57\n",
      "(S¤add) 8\n",
      "Done.\n"
     ]
    }
   ],
   "source": [
    "testfs = all_combinations(2,2)\n",
    "\n",
    "print(\"Functions count:\", len(testfs))\n",
    "\n",
    "for tf in testfs:\n",
    "    if tf(2,3) == 6:\n",
    "        print(tf, tf(2,5))\n",
    "\n",
    "print(\"Done.\")"
   ]
  },
  {
   "cell_type": "code",
   "execution_count": null,
   "metadata": {},
   "outputs": [],
   "source": []
  }
 ],
 "metadata": {
  "kernelspec": {
   "display_name": "Python 3",
   "language": "python",
   "name": "python3"
  },
  "language_info": {
   "codemirror_mode": {
    "name": "ipython",
    "version": 3
   },
   "file_extension": ".py",
   "mimetype": "text/x-python",
   "name": "python",
   "nbconvert_exporter": "python",
   "pygments_lexer": "ipython3",
   "version": "3.6.4"
  }
 },
 "nbformat": 4,
 "nbformat_minor": 2
}
