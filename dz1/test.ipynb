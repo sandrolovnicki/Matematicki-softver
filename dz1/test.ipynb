{
 "cells": [
  {
   "cell_type": "markdown",
   "metadata": {},
   "source": [
    "# Izračunljivost s neuronskim mrežama\n",
    "\n",
    "---\n",
    "**IDEJA:**\n",
    "\n",
    "- imamo 6 funkcija čijim kombiniranjem možemo kreirati sve izračunjive algoritme\n",
    "- stvoriti neuronsku mrežu takvu da:\n",
    "    - zna za tih 6 funkcija i može ih koristiti\n",
    "    - za dani input array $\\in N^k$ treba stvoriti algoritam kojim će dobiti dani output $\\in N$\n",
    "    - **cilj**: što manje funkcija\n",
    "    \n",
    "**KODOVI:**\n",
    "\n",
    "- zero -> 0\n",
    "- successor -> 1\n",
    "- projekcija(n) -> [2,n]\n",
    "- kompozicija -> [3,g.code,]\n",
    "- primitivna rekurzija -> [4,g.code,h.code]\n",
    "- minimizacija -> [5,g.code]"
   ]
  },
  {
   "cell_type": "markdown",
   "metadata": {},
   "source": [
    "Nula $Z : N^k \\rightarrow N$, $Z(\\overrightarrow{x}) = 0$"
   ]
  },
  {
   "cell_type": "code",
   "execution_count": 564,
   "metadata": {},
   "outputs": [
    {
     "name": "stdout",
     "output_type": "stream",
     "text": [
      "0\n",
      "Z\n"
     ]
    }
   ],
   "source": [
    "class zero(object):\n",
    "    code = 0\n",
    "    def __call__(self,*args):\n",
    "        return 0\n",
    "    def __str__(self):\n",
    "        return 'Z'\n",
    "\n",
    "Z = zero()\n",
    "print(Z(3,2,5))\n",
    "print(Z)"
   ]
  },
  {
   "cell_type": "markdown",
   "metadata": {},
   "source": [
    "Sljedbenik $S : N \\rightarrow N$, $S(x) = x+1$"
   ]
  },
  {
   "cell_type": "code",
   "execution_count": 565,
   "metadata": {},
   "outputs": [
    {
     "data": {
      "text/plain": [
       "8"
      ]
     },
     "execution_count": 565,
     "metadata": {},
     "output_type": "execute_result"
    }
   ],
   "source": [
    "class successor(object):\n",
    "    code = 1\n",
    "    def __call__(self,*args):\n",
    "        #def: accept even multiple aguments, but work with first\n",
    "        return args[0]+1\n",
    "    def __str__(self):\n",
    "        return 'S'\n",
    "    \n",
    "S = successor()\n",
    "S(7)"
   ]
  },
  {
   "cell_type": "markdown",
   "metadata": {},
   "source": [
    "Projekcija $I : N^k \\rightarrow N$, $I(n,\\overrightarrow{x}) = x_n$, $1 \\leq n \\leq k$"
   ]
  },
  {
   "cell_type": "code",
   "execution_count": 680,
   "metadata": {},
   "outputs": [
    {
     "name": "stdout",
     "output_type": "stream",
     "text": [
      "2\n",
      "[2, 2]\n"
     ]
    }
   ],
   "source": [
    "class projection(object):\n",
    "    code = [2]\n",
    "    def __init__(self,n=1):\n",
    "        self.n = n\n",
    "        self.code = [2,n]\n",
    "    def __call__(self,*args):\n",
    "        arg_len = len(args)\n",
    "        # def: return projection of last argument n is out of args bounds\n",
    "        if arg_len < self.n:\n",
    "            return projection(arg_len)\n",
    "        return args[self.n-1]\n",
    "    def __str__(self):\n",
    "        return 'I'+str(self.n)\n",
    "\n",
    "I2 = projection(2)\n",
    "print(I2(1,2,3,4))\n",
    "print(I2.code)\n",
    "    "
   ]
  },
  {
   "cell_type": "code",
   "execution_count": 681,
   "metadata": {},
   "outputs": [],
   "source": [
    "primes = [7,11,13,17,19]\n",
    "# TODO: Implement sieve of Atkin, just for fun"
   ]
  },
  {
   "cell_type": "markdown",
   "metadata": {},
   "source": [
    "Želimo označiti kopoziciju, primitivnu rekurziju i minimizaciju nekim posebnim kodovima\n",
    "\n",
    "- kompozicija -> 2\n",
    "- primitivna rekurzija -> 3\n",
    "- minimizacija -> 5"
   ]
  },
  {
   "cell_type": "markdown",
   "metadata": {},
   "source": [
    "### Kompozicija"
   ]
  },
  {
   "cell_type": "code",
   "execution_count": 684,
   "metadata": {},
   "outputs": [],
   "source": [
    "def compose(g, *hs):\n",
    "    hs_num = len(hs)\n",
    "    g_params = [None]*hs_num\n",
    "    class composition(object):\n",
    "        code = [3]\n",
    "        def __init__(self):\n",
    "            self.code.extend([g.code,*[h.code for h in hs]])\n",
    "        def __call__(self,*args):\n",
    "            for i in range(0,hs_num):\n",
    "                g_params[i] = hs[i](*args)\n",
    "            return g(*g_params)\n",
    "        def __str__(self):\n",
    "            name = '('+str(g)+'¤'\n",
    "            if(hs_num>1):\n",
    "                name += '('\n",
    "            for i in range(0,hs_num-1):\n",
    "                name += str(hs[i])+','\n",
    "            name += str(hs[-1])\n",
    "            if(hs_num>1):\n",
    "                name += ')'\n",
    "            return name+')'\n",
    "    return composition()\n",
    "    "
   ]
  },
  {
   "cell_type": "code",
   "execution_count": 685,
   "metadata": {},
   "outputs": [
    {
     "name": "stdout",
     "output_type": "stream",
     "text": [
      "1\n",
      "[3, [2, 2], 1, [3, 1, 0]]\n",
      "(I2¤(S,(S¤Z)))\n"
     ]
    }
   ],
   "source": [
    "test = compose(I2,S,compose(S,Z))\n",
    "print(test(11))\n",
    "print(test.code)\n",
    "print(test)"
   ]
  },
  {
   "cell_type": "markdown",
   "metadata": {},
   "source": [
    "### Primitivna rekurzija"
   ]
  },
  {
   "cell_type": "code",
   "execution_count": 570,
   "metadata": {},
   "outputs": [],
   "source": [
    "def prim_recurse(g, h):\n",
    "    class prim_recursion(object):\n",
    "        code = [4]\n",
    "        def __init__(self):\n",
    "            self.code.extend([g.code,h.code])\n",
    "        def __call__(self,*args):\n",
    "            # po definiciji\n",
    "            if len(args) == 1:\n",
    "                # degenerate version\n",
    "                arg = args[0]\n",
    "                if arg == 0:\n",
    "                    return g()\n",
    "                return h(arg-1,prim_recurse(g,h)(arg-1))\n",
    "            # non-degenerate\n",
    "            if args[-1] == 0:\n",
    "                return g(*args[:-1])\n",
    "            return h(*args[:-1],args[-1]-1,prim_recurse(g,h)(*args[:-1],args[-1]-1))\n",
    "        def __str__(self):\n",
    "            return '('+str(g)+\"pr\"+str(h)+')'\n",
    "    return prim_recursion()"
   ]
  },
  {
   "cell_type": "code",
   "execution_count": 571,
   "metadata": {},
   "outputs": [
    {
     "name": "stdout",
     "output_type": "stream",
     "text": [
      "(I1pr(S¤I3))\n",
      "9+11=20\n",
      "[4, [2, 2, 1, 3], [3, [4, 0, [2, 2, 1, 3]], [[2, 2, 1, 3]]]]\n",
      "5-2=3\n"
     ]
    }
   ],
   "source": [
    "I1 = projection(1)\n",
    "I3 = projection(3)\n",
    "add = prim_recurse(I1,compose(S,I3))\n",
    "print(add)\n",
    "print(\"9+11=\"+str(add(9,11)))\n",
    "\n",
    "pd = prim_recurse(Z,I1)\n",
    "#print(pd.code)\n",
    "sub = prim_recurse(I1,compose(pd,I3))\n",
    "print(sub.code)\n",
    "print(\"5-2=\"+str(sub(5,2)))"
   ]
  },
  {
   "cell_type": "markdown",
   "metadata": {},
   "source": [
    "### Minimizacija"
   ]
  },
  {
   "cell_type": "code",
   "execution_count": 572,
   "metadata": {},
   "outputs": [],
   "source": [
    "def minimize(g):\n",
    "    class minimization(object):\n",
    "        code = [5]\n",
    "        def __init__(self):\n",
    "            self.code.append(g.code)\n",
    "        def __call__(self,*args):\n",
    "            y = 0\n",
    "            # po definiciji\n",
    "            while g(*args,y) != 0: \n",
    "                y += 1\n",
    "            return y\n",
    "        def __str__(self):\n",
    "            return \"min(\"+str(g)+')'\n",
    "    return minimization()"
   ]
  },
  {
   "cell_type": "code",
   "execution_count": 573,
   "metadata": {},
   "outputs": [
    {
     "name": "stdout",
     "output_type": "stream",
     "text": [
      "[5, [4, [2, 2, 1, 3], [3, [4, 0, [2, 2, 1, 3]], [[2, 2, 1, 3]]]]]\n",
      "3\n"
     ]
    }
   ],
   "source": [
    "simple = minimize(sub)\n",
    "print(simple.code)\n",
    "print(simple(3))"
   ]
  },
  {
   "cell_type": "code",
   "execution_count": 738,
   "metadata": {},
   "outputs": [],
   "source": [
    "I = projection()\n",
    "f_dict = [Z,S,I]\n",
    "\n",
    "# creating functions from code\n",
    "def parse_from_code(code):\n",
    "    if isinstance(code,int):\n",
    "        if code == 0:\n",
    "            return zero()\n",
    "        if code == 1:\n",
    "            return successor()\n",
    "        raise ValueError(\"In this code position only zero (code 0) and successor (code 1) are allowed.\")\n",
    "    argl = len(code)-1\n",
    "    if code[0] == 2:\n",
    "        if argl == 1:\n",
    "            return projection(code[1])\n",
    "        raise ValueError(\"Projection (code 2) must be followed by 1 integer representing its projecting dimension but you provided \" + str(argl))\n",
    "    if code[0] == 3:\n",
    "        if argl > 1:\n",
    "            return compose(parse_from_code(code[1]),*[parse_from_code(hc) for hc in code[2:]])\n",
    "        raise ValueError(\"Composition (code 3) is defined with at least 2 functions (arguments) but you provided just \" + str(argl))\n",
    "    if code[0] == 4:\n",
    "        if argl == 2:\n",
    "            return prim_recurse(parse_from_code(code[1]), parse_from_code[2])\n",
    "        raise ValueError(\"Primitive recursion (code 4) is defined with exactly 2 functions (arguments) but you provided \" + str(argl))\n",
    "    if(code[0] == 5):\n",
    "        if argl == 1:\n",
    "            return minimize(parse_from_code(code[1]))\n",
    "        raise ValueError(\"Minimization (code 5) is defined with exaclty 1 function (argument) but you provided \" + str(argl))    \n",
    "    else:\n",
    "        raise ValueError(\"Higher order function codes are: 3,4,5 but you provided \" + str(code[0]))"
   ]
  },
  {
   "cell_type": "code",
   "execution_count": 739,
   "metadata": {},
   "outputs": [
    {
     "name": "stdout",
     "output_type": "stream",
     "text": [
      "4\n",
      "[3, 1, 0]\n",
      "(S¤Z)\n",
      "[3, 1, [3, 1, 0]]\n",
      "(S¤(S¤Z))\n"
     ]
    },
    {
     "ename": "ValueError",
     "evalue": "Higher order function codes are: 3,4,5 but you provided 1",
     "output_type": "error",
     "traceback": [
      "\u001b[0;31m---------------------------------------------------------------------------\u001b[0m",
      "\u001b[0;31mValueError\u001b[0m                                Traceback (most recent call last)",
      "\u001b[0;32m<ipython-input-739-d28bb68a414c>\u001b[0m in \u001b[0;36m<module>\u001b[0;34m()\u001b[0m\n\u001b[1;32m     10\u001b[0m \u001b[0mprint\u001b[0m\u001b[0;34m(\u001b[0m\u001b[0mparse_from_code\u001b[0m\u001b[0;34m(\u001b[0m\u001b[0mct2\u001b[0m\u001b[0;34m.\u001b[0m\u001b[0mcode\u001b[0m\u001b[0;34m)\u001b[0m\u001b[0;34m)\u001b[0m\u001b[0;34m\u001b[0m\u001b[0m\n\u001b[1;32m     11\u001b[0m \u001b[0;34m\u001b[0m\u001b[0m\n\u001b[0;32m---> 12\u001b[0;31m \u001b[0mprint\u001b[0m\u001b[0;34m(\u001b[0m\u001b[0mparse_from_code\u001b[0m\u001b[0;34m(\u001b[0m\u001b[0;34m[\u001b[0m\u001b[0;36m1\u001b[0m\u001b[0;34m,\u001b[0m\u001b[0;36m0\u001b[0m\u001b[0;34m,\u001b[0m\u001b[0;36m1\u001b[0m\u001b[0;34m,\u001b[0m\u001b[0;36m1\u001b[0m\u001b[0;34m,\u001b[0m\u001b[0;36m1\u001b[0m\u001b[0;34m]\u001b[0m\u001b[0;34m)\u001b[0m\u001b[0;34m)\u001b[0m\u001b[0;34m\u001b[0m\u001b[0m\n\u001b[0m",
      "\u001b[0;32m<ipython-input-738-5916c085f21d>\u001b[0m in \u001b[0;36mparse_from_code\u001b[0;34m(code)\u001b[0m\n\u001b[1;32m     28\u001b[0m         \u001b[0;32mraise\u001b[0m \u001b[0mValueError\u001b[0m\u001b[0;34m(\u001b[0m\u001b[0;34m\"Minimization (code 5) is defined with exaclty 1 function (argument) but you provided \"\u001b[0m \u001b[0;34m+\u001b[0m \u001b[0mstr\u001b[0m\u001b[0;34m(\u001b[0m\u001b[0margl\u001b[0m\u001b[0;34m)\u001b[0m\u001b[0;34m)\u001b[0m\u001b[0;34m\u001b[0m\u001b[0m\n\u001b[1;32m     29\u001b[0m     \u001b[0;32melse\u001b[0m\u001b[0;34m:\u001b[0m\u001b[0;34m\u001b[0m\u001b[0m\n\u001b[0;32m---> 30\u001b[0;31m         \u001b[0;32mraise\u001b[0m \u001b[0mValueError\u001b[0m\u001b[0;34m(\u001b[0m\u001b[0;34m\"Higher order function codes are: 3,4,5 but you provided \"\u001b[0m \u001b[0;34m+\u001b[0m \u001b[0mstr\u001b[0m\u001b[0;34m(\u001b[0m\u001b[0mcode\u001b[0m\u001b[0;34m[\u001b[0m\u001b[0;36m0\u001b[0m\u001b[0;34m]\u001b[0m\u001b[0;34m)\u001b[0m\u001b[0;34m)\u001b[0m\u001b[0;34m\u001b[0m\u001b[0m\n\u001b[0m",
      "\u001b[0;31mValueError\u001b[0m: Higher order function codes are: 3,4,5 but you provided 1"
     ]
    }
   ],
   "source": [
    "ss = parse_from_code(1)\n",
    "print(ss(3))\n",
    "\n",
    "comp_test = compose(S,Z)\n",
    "print(comp_test.code)\n",
    "print(parse_from_code(comp_test.code))\n",
    "\n",
    "ct2 = compose(S,comp_test)\n",
    "print(ct2.code)\n",
    "print(parse_from_code(ct2.code))\n",
    "\n",
    "print(parse_from_code([1,0,1,1,1]))"
   ]
  },
  {
   "cell_type": "code",
   "execution_count": 523,
   "metadata": {},
   "outputs": [
    {
     "name": "stdout",
     "output_type": "stream",
     "text": [
      "((S¤S)prI1)\n",
      "3\n"
     ]
    }
   ],
   "source": [
    "import numpy as np\n",
    "\n",
    "def random_function():\n",
    "    f1 = np.random.randint(0,3)\n",
    "    f2 = np.random.randint(0,3)\n",
    "    f12 = compose(f_dict[f1],f_dict[f2])\n",
    "    f3 = np.random.randint(0,3)\n",
    "    f123 = prim_recurse(f12,f_dict[f3])\n",
    "    return f123\n",
    "\n",
    "frand = random_function()\n",
    "\n",
    "print(frand)\n",
    "print(frand(3,2,3))\n",
    "    "
   ]
  },
  {
   "cell_type": "code",
   "execution_count": null,
   "metadata": {},
   "outputs": [],
   "source": []
  },
  {
   "cell_type": "code",
   "execution_count": null,
   "metadata": {},
   "outputs": [],
   "source": []
  }
 ],
 "metadata": {
  "kernelspec": {
   "display_name": "Python 3",
   "language": "python",
   "name": "python3"
  },
  "language_info": {
   "codemirror_mode": {
    "name": "ipython",
    "version": 3
   },
   "file_extension": ".py",
   "mimetype": "text/x-python",
   "name": "python",
   "nbconvert_exporter": "python",
   "pygments_lexer": "ipython3",
   "version": "3.6.4"
  }
 },
 "nbformat": 4,
 "nbformat_minor": 2
}
