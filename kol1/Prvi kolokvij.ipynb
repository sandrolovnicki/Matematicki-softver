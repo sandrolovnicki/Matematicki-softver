{
 "cells": [
  {
   "cell_type": "markdown",
   "metadata": {},
   "source": [
    "# Matematički softver\n",
    "## Prvi kolokvij"
   ]
  },
  {
   "cell_type": "markdown",
   "metadata": {},
   "source": [
    "Ovo je \"open book\" kolokvij. Dozvoljeno je korištenje bilo kakvih materijala — bilješke s vježbi,\n",
    "help, tutoriali, postovi na online forumima,... — nastalih _prije_ kolokvija (npr. dozvoljeno je na _StackOverflowu_ naći rješenje nekog zadatka, ali nije dozvoljeno tamo postaviti pitanje kako se rješava neki zadatak).\n",
    "\n",
    "Također, nije dozvoljena komunikacija (razgovor, _chat_, razmjena bilježaka) među studentima.\n",
    "\n",
    "Rješenja zadataka pišite u ovu bilježnicu, koju na kraju pošaljite sa Subjectom \"MS K1\" na veky@math.hr. Rješenje svakog zadatka mora biti samo sebi dovoljno (ponovite `import`e koji vam trebaju), i mora se moći izvršiti bez warninga i grešaka.\n",
    "\n",
    "Predviđeno vrijeme rješavanja je 90 minuta. Svaki zadatak vrijedi 8 bodova. Maksimalni broj bodova koji se može osvojiti je 40."
   ]
  },
  {
   "cell_type": "markdown",
   "metadata": {},
   "source": [
    "### Prvi zadatak"
   ]
  },
  {
   "cell_type": "markdown",
   "metadata": {},
   "source": [
    "Napišite funkciju `usporedi` koja prima dvije liste, u svakoj od kojih se nalaze samo cijeli brojevi (`int`) i stringovi (`str`). Ako nisu jednake duljine, `usporedi` vraća `False`. Ako jesu, `usporedi` treba ustanoviti jesu li elementi na odgovarajućim pozicijama \"slični\".\n",
    "\n",
    "* dva cijela broja su slični ako je jedan od njih (bilo koji) djeljiv onim drugim\n",
    "* dva stringa su slični ako su jednaki do na veličinu slova (_case insensitive_)\n",
    "* string i cijeli broj nisu nikada slični\n",
    "\n",
    "Primjerice, `usporedi([a, b, c], [d, e, f])` treba vratiti `True` ako su `a` i `b` slični, `c` i `d` slični, te `e` i `f` slični."
   ]
  },
  {
   "cell_type": "code",
   "execution_count": 20,
   "metadata": {},
   "outputs": [
    {
     "data": {
      "text/plain": [
       "False"
      ]
     },
     "execution_count": 20,
     "metadata": {},
     "output_type": "execute_result"
    }
   ],
   "source": [
    "def usporedi(l1,l2):\n",
    "    len1 = len(l1)\n",
    "    if len1!=len(l2):\n",
    "        return False\n",
    "    for i in range(len1):\n",
    "        # if different types\n",
    "        if type(l1[i]) != type(l2[i]):\n",
    "            return False\n",
    "        # if strings\n",
    "        if isinstance(l1[i],str):\n",
    "            if l1[i].lower() != l2[i].lower():\n",
    "                return False\n",
    "        # if numbers\n",
    "        elif l1[i]%l2[i]!=0 and l2[i]%l1[i]!=0:\n",
    "            return False\n",
    "    return True\n",
    "    \n",
    "\n",
    "all([\n",
    "    usporedi([24, 'v'], [12, 'V']) == True,\n",
    "    usporedi([1, 2], [1]) == False,\n",
    "    usporedi([1, 't'], ['t', 1]) == False,\n",
    "    usporedi(['', 0, 'Wäßrig'], ['', 52, 'WÄSSRIG'])\n",
    "])"
   ]
  },
  {
   "cell_type": "markdown",
   "metadata": {},
   "source": [
    "### Drugi zadatak"
   ]
  },
  {
   "cell_type": "markdown",
   "metadata": {},
   "source": [
    "U varijabli `kocke` nalazi se tri milijuna rezultata bacanja igraće kocke."
   ]
  },
  {
   "cell_type": "code",
   "execution_count": 21,
   "metadata": {},
   "outputs": [],
   "source": [
    "import numpy as np"
   ]
  },
  {
   "cell_type": "code",
   "execution_count": 180,
   "metadata": {},
   "outputs": [
    {
     "name": "stdout",
     "output_type": "stream",
     "text": [
      "Vjerojatnost: 51.83546666666666%\n",
      "Isplati se.\n",
      "Vjerojatnost: 99.98559999999999%\n",
      "Isplati se.\n"
     ]
    }
   ],
   "source": [
    "kocke = 1 + np.random.randint(0, 6, 3_000_000, dtype=np.int8)\n",
    "#print(kocke)\n",
    "\n",
    "######### a) ######### \n",
    "cetvorke = kocke.reshape(int(3000000/4),4)\n",
    "#print(cetvorke)\n",
    "test6 = np.vectorize(lambda x: x==6)\n",
    "cetvorke = test6(cetvorke)\n",
    "dobri = np.any(cetvorke, axis=1)\n",
    "#print(dobri)\n",
    "count = np.sum(dobri)\n",
    "print('Vjerojatnost: {}%'.format(100*float(count/int(3000000/4))))\n",
    "print('Isplati se.')\n",
    "\n",
    "######### b) #########\n",
    "bacanja24_2 = kocke.reshape(int(3000000/(24*2)),24,2)\n",
    "bacanja24_2 = test6(bacanja24_2)\n",
    "dobri = np.any(bacanja24_2, axis=2)\n",
    "dobri = np.any(dobri, axis=1)\n",
    "count = np.sum(dobri)\n",
    "print('Vjerojatnost: {}%'.format(100*float(count/int(3000000/(24*2)))))\n",
    "print('Isplati se.')\n"
   ]
  },
  {
   "cell_type": "markdown",
   "metadata": {},
   "source": [
    "#### a)\n",
    "\n",
    "Interpretirajte `kocke` kao niz pokusa bacanja po četiri kocke (ne kopirajte podatke, samo im promijenite oblik).\n",
    "\n",
    "Izračunajte, i izrazite u postotcima na dvije decimale, _a posteriori_ vjerojatnost da se u bacanju četiri kocke pojavi bar jedna šestica. Isplati li se kladiti (1:1) na taj događaj? "
   ]
  },
  {
   "cell_type": "markdown",
   "metadata": {},
   "source": [
    "#### b)"
   ]
  },
  {
   "cell_type": "markdown",
   "metadata": {},
   "source": [
    "Sada reinterpretirajte `kocke` kao niz pokusa, svaki od kojih se sastoji od 24 bacanja 2 kocke (trodimenzionalni tenzor).\n",
    "\n",
    "Odgovorite na ista pitanja kao u **a)**, za događaj da se u 24 bacanja 2 kocke bar jednom pojavi dvostruka šestica."
   ]
  },
  {
   "cell_type": "markdown",
   "metadata": {},
   "source": [
    "### Treći zadatak"
   ]
  },
  {
   "cell_type": "markdown",
   "metadata": {},
   "source": [
    "U datoteci `bodovi.csv` nalaze se bodovi studenata nekog izmišljenog kolegija. Stupci su redom ime i prezime studenta, bodovi s prvog i drugog kolokvija, te bodovi s tri zadaće.\n",
    "\n",
    "* Učitajte datoteku u DataFrame.\n",
    "* Dodajte stupac `Kolokviji` koji predstavlja zbroj bodova na oba kolokvija.\n",
    "* Dodajte stupac `Zadaće` koji predstavlja ukupan broj bodova na zadaćama. Najslabije napisana zadaća se ne računa.\n",
    "* Odredite je li bolje (u prosjeku) bio napisan prvi ili drugi kolokvij.\n",
    "* Ispišite _top 10_ studenata po ukupnim bodovima (kolokviji plus zadaće).\n",
    "\n",
    "Sve radite u jednom DataFrameu. Smijete dodavati i pomoćne stupce (osim dva gore zadana), ali ih morate obrisati kasnije."
   ]
  },
  {
   "cell_type": "code",
   "execution_count": 164,
   "metadata": {},
   "outputs": [
    {
     "name": "stdout",
     "output_type": "stream",
     "text": [
      "Bolji kolokvij: Drugi\n"
     ]
    },
    {
     "data": {
      "text/html": [
       "<div>\n",
       "<style scoped>\n",
       "    .dataframe tbody tr th:only-of-type {\n",
       "        vertical-align: middle;\n",
       "    }\n",
       "\n",
       "    .dataframe tbody tr th {\n",
       "        vertical-align: top;\n",
       "    }\n",
       "\n",
       "    .dataframe thead th {\n",
       "        text-align: right;\n",
       "    }\n",
       "</style>\n",
       "<table border=\"1\" class=\"dataframe\">\n",
       "  <thead>\n",
       "    <tr style=\"text-align: right;\">\n",
       "      <th></th>\n",
       "      <th>0</th>\n",
       "      <th>1</th>\n",
       "      <th>2</th>\n",
       "      <th>3</th>\n",
       "      <th>4</th>\n",
       "      <th>5</th>\n",
       "      <th>6</th>\n",
       "      <th>Kolokviji</th>\n",
       "      <th>Zadaće</th>\n",
       "    </tr>\n",
       "  </thead>\n",
       "  <tbody>\n",
       "    <tr>\n",
       "      <th>410</th>\n",
       "      <td>Eliza</td>\n",
       "      <td>Mora</td>\n",
       "      <td>30</td>\n",
       "      <td>30</td>\n",
       "      <td>0</td>\n",
       "      <td>5</td>\n",
       "      <td>5</td>\n",
       "      <td>60</td>\n",
       "      <td>10</td>\n",
       "    </tr>\n",
       "    <tr>\n",
       "      <th>599</th>\n",
       "      <td>Mercedes</td>\n",
       "      <td>Boone</td>\n",
       "      <td>30</td>\n",
       "      <td>30</td>\n",
       "      <td>4</td>\n",
       "      <td>5</td>\n",
       "      <td>5</td>\n",
       "      <td>60</td>\n",
       "      <td>10</td>\n",
       "    </tr>\n",
       "    <tr>\n",
       "      <th>50</th>\n",
       "      <td>Lea</td>\n",
       "      <td>Henry</td>\n",
       "      <td>30</td>\n",
       "      <td>30</td>\n",
       "      <td>5</td>\n",
       "      <td>4</td>\n",
       "      <td>4</td>\n",
       "      <td>60</td>\n",
       "      <td>9</td>\n",
       "    </tr>\n",
       "    <tr>\n",
       "      <th>204</th>\n",
       "      <td>Makaila</td>\n",
       "      <td>Schaefer</td>\n",
       "      <td>30</td>\n",
       "      <td>30</td>\n",
       "      <td>4</td>\n",
       "      <td>5</td>\n",
       "      <td>2</td>\n",
       "      <td>60</td>\n",
       "      <td>9</td>\n",
       "    </tr>\n",
       "    <tr>\n",
       "      <th>250</th>\n",
       "      <td>Madilyn</td>\n",
       "      <td>Martinez</td>\n",
       "      <td>30</td>\n",
       "      <td>30</td>\n",
       "      <td>1</td>\n",
       "      <td>5</td>\n",
       "      <td>4</td>\n",
       "      <td>60</td>\n",
       "      <td>9</td>\n",
       "    </tr>\n",
       "    <tr>\n",
       "      <th>450</th>\n",
       "      <td>Ryker</td>\n",
       "      <td>Tate</td>\n",
       "      <td>30</td>\n",
       "      <td>30</td>\n",
       "      <td>4</td>\n",
       "      <td>5</td>\n",
       "      <td>3</td>\n",
       "      <td>60</td>\n",
       "      <td>9</td>\n",
       "    </tr>\n",
       "    <tr>\n",
       "      <th>603</th>\n",
       "      <td>Joy</td>\n",
       "      <td>Dorsey</td>\n",
       "      <td>30</td>\n",
       "      <td>30</td>\n",
       "      <td>4</td>\n",
       "      <td>5</td>\n",
       "      <td>2</td>\n",
       "      <td>60</td>\n",
       "      <td>9</td>\n",
       "    </tr>\n",
       "    <tr>\n",
       "      <th>794</th>\n",
       "      <td>Jaidyn</td>\n",
       "      <td>Hensley</td>\n",
       "      <td>30</td>\n",
       "      <td>30</td>\n",
       "      <td>5</td>\n",
       "      <td>1</td>\n",
       "      <td>4</td>\n",
       "      <td>60</td>\n",
       "      <td>9</td>\n",
       "    </tr>\n",
       "    <tr>\n",
       "      <th>892</th>\n",
       "      <td>Braylon</td>\n",
       "      <td>Sherman</td>\n",
       "      <td>30</td>\n",
       "      <td>30</td>\n",
       "      <td>1</td>\n",
       "      <td>5</td>\n",
       "      <td>4</td>\n",
       "      <td>60</td>\n",
       "      <td>9</td>\n",
       "    </tr>\n",
       "    <tr>\n",
       "      <th>909</th>\n",
       "      <td>Hillary</td>\n",
       "      <td>Gentry</td>\n",
       "      <td>30</td>\n",
       "      <td>30</td>\n",
       "      <td>4</td>\n",
       "      <td>2</td>\n",
       "      <td>5</td>\n",
       "      <td>60</td>\n",
       "      <td>9</td>\n",
       "    </tr>\n",
       "  </tbody>\n",
       "</table>\n",
       "</div>"
      ],
      "text/plain": [
       "            0         1   2   3  4  5  6  Kolokviji  Zadaće\n",
       "410     Eliza      Mora  30  30  0  5  5         60      10\n",
       "599  Mercedes     Boone  30  30  4  5  5         60      10\n",
       "50        Lea     Henry  30  30  5  4  4         60       9\n",
       "204   Makaila  Schaefer  30  30  4  5  2         60       9\n",
       "250   Madilyn  Martinez  30  30  1  5  4         60       9\n",
       "450     Ryker      Tate  30  30  4  5  3         60       9\n",
       "603       Joy    Dorsey  30  30  4  5  2         60       9\n",
       "794    Jaidyn   Hensley  30  30  5  1  4         60       9\n",
       "892   Braylon   Sherman  30  30  1  5  4         60       9\n",
       "909   Hillary    Gentry  30  30  4  2  5         60       9"
      ]
     },
     "execution_count": 164,
     "metadata": {},
     "output_type": "execute_result"
    }
   ],
   "source": [
    "import pandas as pd\n",
    "\n",
    "df = pd.read_csv('bodovi.csv', delimiter='\\t', header=None)\n",
    "df['Kolokviji'] = df.iloc[:,2]+df.iloc[:,3]\n",
    "df['Zadaće'] = df.iloc[:,4]+df.iloc[:,5]+df.iloc[:,6] - df.iloc[:,[4,5,6]].min(axis=1)\n",
    "#df\n",
    "print('Bolji kolokvij:', 'Prvi' if df.iloc[:,2].mean()>df.iloc[:,3].mean() else 'Drugi')\n",
    "\n",
    "df.sort_values(by=['Kolokviji']+['Zadaće'], ascending=False).head(10)"
   ]
  },
  {
   "cell_type": "markdown",
   "metadata": {},
   "source": [
    "### Četvrti zadatak"
   ]
  },
  {
   "cell_type": "markdown",
   "metadata": {},
   "source": [
    "Nacrtajte, jedan pored drugog sa zajedničkom osi ordinata, grafove funkcijâ $f(x)=1/x$ i $g(x)=1/x^2$ na segmentu $[-1,1]$."
   ]
  },
  {
   "cell_type": "code",
   "execution_count": 140,
   "metadata": {},
   "outputs": [
    {
     "data": {
      "text/plain": [
       "[<matplotlib.lines.Line2D at 0x7f7c49942c88>]"
      ]
     },
     "execution_count": 140,
     "metadata": {},
     "output_type": "execute_result"
    },
    {
     "data": {
      "image/png": "[encoded data removed]",
      "text/plain": [
       "<matplotlib.figure.Figure at 0x7f7c499bbfd0>"
      ]
     },
     "metadata": {},
     "output_type": "display_data"
    }
   ],
   "source": [
    "import matplotlib.pyplot as plt\n",
    "import numpy as np\n",
    "\n",
    "fig, (lijevo, desno) = plt.subplots(1, 2, sharey=True)\n",
    "x = np.linspace(-1, 1)\n",
    "lijevo.plot(x, 1/x)\n",
    "desno.plot(x, 1/x**2)\n"
   ]
  },
  {
   "cell_type": "markdown",
   "metadata": {},
   "source": [
    "### Peti zadatak"
   ]
  },
  {
   "cell_type": "markdown",
   "metadata": {},
   "source": [
    "Riješite egzaktno diferencijalnu jednadžbu $x\\,y\\,'+y=x\\sin x$ uz početni uvjet $y\\left(\\frac\\pi2\\right)=-\\frac12$."
   ]
  },
  {
   "cell_type": "code",
   "execution_count": 160,
   "metadata": {},
   "outputs": [
    {
     "name": "stdout",
     "output_type": "stream",
     "text": [
      "d                   y(x)\n",
      "──(y(x)) = sin(x) - ────\n",
      "dx                   x  \n"
     ]
    },
    {
     "data": {
      "image/png": "[encoded data removed]",
      "text/latex": [
       "$$y{\\left (x \\right )} = \\frac{C_{1}}{x} - \\cos{\\left (x \\right )} + \\frac{1}{x} \\sin{\\left (x \\right )}$$"
      ],
      "text/plain": [
       "       C₁            sin(x)\n",
       "y(x) = ── - cos(x) + ──────\n",
       "       x               x   "
      ]
     },
     "execution_count": 160,
     "metadata": {},
     "output_type": "execute_result"
    }
   ],
   "source": [
    "import sympy as sp\n",
    "from scipy.integrate import ode\n",
    "\n",
    "sp.init_printing()\n",
    "y = sp.Function('y')\n",
    "x = sp.Symbol('x')\n",
    "\n",
    "jednadzba = sp.Eq(sp.Derivative(y(x),x),sp.sin(x)-y(x)/x)\n",
    "# za x=0 imamo y=0 što nije rješenje pa radimo s:\n",
    "sp.pprint(jednadzba)\n",
    "# i rješimo ju\n",
    "sp.dsolve(jednadzba, y(x))"
   ]
  },
  {
   "cell_type": "code",
   "execution_count": null,
   "metadata": {},
   "outputs": [],
   "source": []
  }
 ],
 "metadata": {
  "kernelspec": {
   "display_name": "Python 3",
   "language": "python",
   "name": "python3"
  },
  "language_info": {
   "codemirror_mode": {
    "name": "ipython",
    "version": 3
   },
   "file_extension": ".py",
   "mimetype": "text/x-python",
   "name": "python",
   "nbconvert_exporter": "python",
   "pygments_lexer": "ipython3",
   "version": "3.6.4"
  }
 },
 "nbformat": 4,
 "nbformat_minor": 2
}
